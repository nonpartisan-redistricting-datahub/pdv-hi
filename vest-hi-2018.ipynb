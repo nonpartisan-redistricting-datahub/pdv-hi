{
 "cells": [
  {
   "cell_type": "code",
   "execution_count": 2,
   "metadata": {},
   "outputs": [],
   "source": [
    "import pandas as pd\n",
    "import geopandas as gpd\n",
    "import matplotlib.pyplot as plt\n",
    "import maup\n",
    "from zipfile import ZipFile\n",
    "import numpy as np\n",
    "import os\n",
    "import shutil"
   ]
  },
  {
   "cell_type": "markdown",
   "metadata": {},
   "source": [
    "# Hawaii - test data load"
   ]
  },
  {
   "cell_type": "code",
   "execution_count": 3,
   "metadata": {},
   "outputs": [
    {
     "data": {
      "text/plain": [
       "'/Users/lilyfalk/sandbox/pdv-hi'"
      ]
     },
     "execution_count": 3,
     "metadata": {},
     "output_type": "execute_result"
    }
   ],
   "source": [
    "pwd"
   ]
  },
  {
   "cell_type": "markdown",
   "metadata": {},
   "source": [
    "**Notes:**\n",
    "- (https://elections.hawaii.gov/election-results/) linked in documentation, however url for each year changes, but webpage only displays 2020 data..?\n",
    "    - link to precinct results in csv format but not a file, just brings to txt webpage, so copy paste all into txt file to read in...\n",
    "- (http://geoportal.hawaii.gov/datasets/election-precincts-) 2017 shapefile downloaded from HI Statewide GIS program\n"
   ]
  },
  {
   "cell_type": "code",
   "execution_count": 9,
   "metadata": {},
   "outputs": [],
   "source": [
    "shp = gpd.read_file('./Election_Precincts_/Election_Precincts_.shp')"
   ]
  },
  {
   "cell_type": "code",
   "execution_count": 10,
   "metadata": {},
   "outputs": [
    {
     "data": {
      "text/html": [
       "<div>\n",
       "<style scoped>\n",
       "    .dataframe tbody tr th:only-of-type {\n",
       "        vertical-align: middle;\n",
       "    }\n",
       "\n",
       "    .dataframe tbody tr th {\n",
       "        vertical-align: top;\n",
       "    }\n",
       "\n",
       "    .dataframe thead th {\n",
       "        text-align: right;\n",
       "    }\n",
       "</style>\n",
       "<table border=\"1\" class=\"dataframe\">\n",
       "  <thead>\n",
       "    <tr style=\"text-align: right;\">\n",
       "      <th></th>\n",
       "      <th>objectid</th>\n",
       "      <th>dp</th>\n",
       "      <th>dpnum</th>\n",
       "      <th>dptype</th>\n",
       "      <th>county</th>\n",
       "      <th>zeropop</th>\n",
       "      <th>ballottype</th>\n",
       "      <th>us_house</th>\n",
       "      <th>state_hous</th>\n",
       "      <th>state_sena</th>\n",
       "      <th>county_cou</th>\n",
       "      <th>st_areasha</th>\n",
       "      <th>st_perimet</th>\n",
       "      <th>geometry</th>\n",
       "    </tr>\n",
       "  </thead>\n",
       "  <tbody>\n",
       "    <tr>\n",
       "      <th>0</th>\n",
       "      <td>1</td>\n",
       "      <td>07-03</td>\n",
       "      <td>703</td>\n",
       "      <td>PP</td>\n",
       "      <td>HAWAII</td>\n",
       "      <td>None</td>\n",
       "      <td>CD2-H07-S04-CC9</td>\n",
       "      <td>CD2</td>\n",
       "      <td>H7</td>\n",
       "      <td>S4</td>\n",
       "      <td>CC9</td>\n",
       "      <td>3.433163e+08</td>\n",
       "      <td>100748.260922</td>\n",
       "      <td>POLYGON ((-155.78978 20.24791, -155.78975 20.2...</td>\n",
       "    </tr>\n",
       "    <tr>\n",
       "      <th>1</th>\n",
       "      <td>2</td>\n",
       "      <td>01-05</td>\n",
       "      <td>105</td>\n",
       "      <td>PP</td>\n",
       "      <td>HAWAII</td>\n",
       "      <td>None</td>\n",
       "      <td>CD2-H01-S04-CC1</td>\n",
       "      <td>CD2</td>\n",
       "      <td>H1</td>\n",
       "      <td>S4</td>\n",
       "      <td>CC1</td>\n",
       "      <td>1.434849e+08</td>\n",
       "      <td>75515.354158</td>\n",
       "      <td>POLYGON ((-155.11901 19.88276, -155.11887 19.8...</td>\n",
       "    </tr>\n",
       "    <tr>\n",
       "      <th>2</th>\n",
       "      <td>3</td>\n",
       "      <td>01-01</td>\n",
       "      <td>101</td>\n",
       "      <td>PP</td>\n",
       "      <td>HAWAII</td>\n",
       "      <td>None</td>\n",
       "      <td>CD2-H01-S04-CC1</td>\n",
       "      <td>CD2</td>\n",
       "      <td>H1</td>\n",
       "      <td>S4</td>\n",
       "      <td>CC1</td>\n",
       "      <td>3.771898e+08</td>\n",
       "      <td>141411.346571</td>\n",
       "      <td>POLYGON ((-155.69903 20.18606, -155.69865 20.1...</td>\n",
       "    </tr>\n",
       "    <tr>\n",
       "      <th>3</th>\n",
       "      <td>4</td>\n",
       "      <td>01-02</td>\n",
       "      <td>102</td>\n",
       "      <td>PP</td>\n",
       "      <td>HAWAII</td>\n",
       "      <td>None</td>\n",
       "      <td>CD2-H01-S04-CC1</td>\n",
       "      <td>CD2</td>\n",
       "      <td>H1</td>\n",
       "      <td>S4</td>\n",
       "      <td>CC1</td>\n",
       "      <td>2.207124e+08</td>\n",
       "      <td>69022.641881</td>\n",
       "      <td>POLYGON ((-155.40968 20.07713, -155.40942 20.0...</td>\n",
       "    </tr>\n",
       "    <tr>\n",
       "      <th>4</th>\n",
       "      <td>5</td>\n",
       "      <td>01-06</td>\n",
       "      <td>106</td>\n",
       "      <td>PP</td>\n",
       "      <td>HAWAII</td>\n",
       "      <td>None</td>\n",
       "      <td>CD2-H01-S04-CC1</td>\n",
       "      <td>CD2</td>\n",
       "      <td>H1</td>\n",
       "      <td>S4</td>\n",
       "      <td>CC1</td>\n",
       "      <td>1.087545e+08</td>\n",
       "      <td>72825.893157</td>\n",
       "      <td>POLYGON ((-155.13126 19.82529, -155.13104 19.8...</td>\n",
       "    </tr>\n",
       "  </tbody>\n",
       "</table>\n",
       "</div>"
      ],
      "text/plain": [
       "   objectid     dp  dpnum dptype  county zeropop       ballottype us_house  \\\n",
       "0         1  07-03    703     PP  HAWAII    None  CD2-H07-S04-CC9      CD2   \n",
       "1         2  01-05    105     PP  HAWAII    None  CD2-H01-S04-CC1      CD2   \n",
       "2         3  01-01    101     PP  HAWAII    None  CD2-H01-S04-CC1      CD2   \n",
       "3         4  01-02    102     PP  HAWAII    None  CD2-H01-S04-CC1      CD2   \n",
       "4         5  01-06    106     PP  HAWAII    None  CD2-H01-S04-CC1      CD2   \n",
       "\n",
       "  state_hous state_sena county_cou    st_areasha     st_perimet  \\\n",
       "0         H7         S4        CC9  3.433163e+08  100748.260922   \n",
       "1         H1         S4        CC1  1.434849e+08   75515.354158   \n",
       "2         H1         S4        CC1  3.771898e+08  141411.346571   \n",
       "3         H1         S4        CC1  2.207124e+08   69022.641881   \n",
       "4         H1         S4        CC1  1.087545e+08   72825.893157   \n",
       "\n",
       "                                            geometry  \n",
       "0  POLYGON ((-155.78978 20.24791, -155.78975 20.2...  \n",
       "1  POLYGON ((-155.11901 19.88276, -155.11887 19.8...  \n",
       "2  POLYGON ((-155.69903 20.18606, -155.69865 20.1...  \n",
       "3  POLYGON ((-155.40968 20.07713, -155.40942 20.0...  \n",
       "4  POLYGON ((-155.13126 19.82529, -155.13104 19.8...  "
      ]
     },
     "execution_count": 10,
     "metadata": {},
     "output_type": "execute_result"
    }
   ],
   "source": [
    "shp.head()"
   ]
  },
  {
   "cell_type": "code",
   "execution_count": 11,
   "metadata": {},
   "outputs": [
    {
     "data": {
      "text/plain": [
       "262"
      ]
     },
     "execution_count": 11,
     "metadata": {},
     "output_type": "execute_result"
    }
   ],
   "source": [
    "shp['dp'].nunique()"
   ]
  },
  {
   "cell_type": "code",
   "execution_count": 12,
   "metadata": {},
   "outputs": [
    {
     "data": {
      "text/plain": [
       "249"
      ]
     },
     "execution_count": 12,
     "metadata": {},
     "output_type": "execute_result"
    }
   ],
   "source": [
    "df['Precinct_Name'].nunique()"
   ]
  },
  {
   "cell_type": "code",
   "execution_count": 13,
   "metadata": {},
   "outputs": [
    {
     "data": {
      "text/plain": [
       "{'01-10',\n",
       " '01-11',\n",
       " '04-05',\n",
       " '05-09',\n",
       " '05-10',\n",
       " '05-11',\n",
       " '07-06',\n",
       " '07-07',\n",
       " '31-06',\n",
       " '35-07',\n",
       " '37-05',\n",
       " '39-05',\n",
       " '45-06'}"
      ]
     },
     "execution_count": 13,
     "metadata": {},
     "output_type": "execute_result"
    }
   ],
   "source": [
    "set(shp['dp']) - set(df['Precinct_Name'])"
   ]
  },
  {
   "cell_type": "code",
   "execution_count": 14,
   "metadata": {},
   "outputs": [
    {
     "data": {
      "text/plain": [
       "set()"
      ]
     },
     "execution_count": 14,
     "metadata": {},
     "output_type": "execute_result"
    }
   ],
   "source": [
    "set(df['Precinct_Name']) - set(shp['dp'])"
   ]
  },
  {
   "cell_type": "code",
   "execution_count": 6,
   "metadata": {},
   "outputs": [],
   "source": [
    "df = pd.read_csv('./hi_2018_election_results.txt', delimiter = ',')"
   ]
  },
  {
   "cell_type": "code",
   "execution_count": 7,
   "metadata": {},
   "outputs": [
    {
     "data": {
      "text/html": [
       "<div>\n",
       "<style scoped>\n",
       "    .dataframe tbody tr th:only-of-type {\n",
       "        vertical-align: middle;\n",
       "    }\n",
       "\n",
       "    .dataframe tbody tr th {\n",
       "        vertical-align: top;\n",
       "    }\n",
       "\n",
       "    .dataframe thead th {\n",
       "        text-align: right;\n",
       "    }\n",
       "</style>\n",
       "<table border=\"1\" class=\"dataframe\">\n",
       "  <thead>\n",
       "    <tr style=\"text-align: right;\">\n",
       "      <th></th>\n",
       "      <th>Precinct_Name</th>\n",
       "      <th>Split_Name</th>\n",
       "      <th>precinct_splitId</th>\n",
       "      <th>Reg_voters</th>\n",
       "      <th>Ballots</th>\n",
       "      <th>Reporting</th>\n",
       "      <th>Contest_id</th>\n",
       "      <th>Contest_title</th>\n",
       "      <th>Contest_party</th>\n",
       "      <th>Choice_id</th>\n",
       "      <th>Candidate_name</th>\n",
       "      <th>Choice_party</th>\n",
       "      <th>Candidate_Type</th>\n",
       "      <th>Absentee_votes</th>\n",
       "      <th>Early_votes</th>\n",
       "      <th>Election_Votes</th>\n",
       "    </tr>\n",
       "  </thead>\n",
       "  <tbody>\n",
       "    <tr>\n",
       "      <th>0</th>\n",
       "      <td>01-01</td>\n",
       "      <td>NaN</td>\n",
       "      <td>1</td>\n",
       "      <td>2912</td>\n",
       "      <td>1472</td>\n",
       "      <td>1</td>\n",
       "      <td>1</td>\n",
       "      <td>U.S. Senator</td>\n",
       "      <td>NaN</td>\n",
       "      <td>1</td>\n",
       "      <td>(R) CURTIS, Ron</td>\n",
       "      <td>NaN</td>\n",
       "      <td>C</td>\n",
       "      <td>142</td>\n",
       "      <td>24</td>\n",
       "      <td>153</td>\n",
       "    </tr>\n",
       "    <tr>\n",
       "      <th>1</th>\n",
       "      <td>01-01</td>\n",
       "      <td>NaN</td>\n",
       "      <td>1</td>\n",
       "      <td>2912</td>\n",
       "      <td>1472</td>\n",
       "      <td>1</td>\n",
       "      <td>1</td>\n",
       "      <td>U.S. Senator</td>\n",
       "      <td>NaN</td>\n",
       "      <td>2</td>\n",
       "      <td>(D) HIRONO, Mazie K.</td>\n",
       "      <td>NaN</td>\n",
       "      <td>C</td>\n",
       "      <td>541</td>\n",
       "      <td>86</td>\n",
       "      <td>500</td>\n",
       "    </tr>\n",
       "    <tr>\n",
       "      <th>2</th>\n",
       "      <td>01-01</td>\n",
       "      <td>NaN</td>\n",
       "      <td>1</td>\n",
       "      <td>2912</td>\n",
       "      <td>1472</td>\n",
       "      <td>1</td>\n",
       "      <td>3</td>\n",
       "      <td>U.S. Representative, Dist II</td>\n",
       "      <td>NaN</td>\n",
       "      <td>8</td>\n",
       "      <td>(D) GABBARD, Tulsi</td>\n",
       "      <td>NaN</td>\n",
       "      <td>C</td>\n",
       "      <td>574</td>\n",
       "      <td>89</td>\n",
       "      <td>548</td>\n",
       "    </tr>\n",
       "    <tr>\n",
       "      <th>3</th>\n",
       "      <td>01-01</td>\n",
       "      <td>NaN</td>\n",
       "      <td>1</td>\n",
       "      <td>2912</td>\n",
       "      <td>1472</td>\n",
       "      <td>1</td>\n",
       "      <td>3</td>\n",
       "      <td>U.S. Representative, Dist II</td>\n",
       "      <td>NaN</td>\n",
       "      <td>9</td>\n",
       "      <td>(R) EVANS, Brian</td>\n",
       "      <td>NaN</td>\n",
       "      <td>C</td>\n",
       "      <td>98</td>\n",
       "      <td>18</td>\n",
       "      <td>101</td>\n",
       "    </tr>\n",
       "    <tr>\n",
       "      <th>4</th>\n",
       "      <td>01-01</td>\n",
       "      <td>NaN</td>\n",
       "      <td>1</td>\n",
       "      <td>2912</td>\n",
       "      <td>1472</td>\n",
       "      <td>1</td>\n",
       "      <td>4</td>\n",
       "      <td>Governor and Lieutenant Governor</td>\n",
       "      <td>NaN</td>\n",
       "      <td>10</td>\n",
       "      <td>(G) BREWER / ING</td>\n",
       "      <td>NaN</td>\n",
       "      <td>C</td>\n",
       "      <td>14</td>\n",
       "      <td>2</td>\n",
       "      <td>19</td>\n",
       "    </tr>\n",
       "  </tbody>\n",
       "</table>\n",
       "</div>"
      ],
      "text/plain": [
       "  Precinct_Name  Split_Name  precinct_splitId  Reg_voters  Ballots  Reporting  \\\n",
       "0         01-01         NaN                 1        2912     1472          1   \n",
       "1         01-01         NaN                 1        2912     1472          1   \n",
       "2         01-01         NaN                 1        2912     1472          1   \n",
       "3         01-01         NaN                 1        2912     1472          1   \n",
       "4         01-01         NaN                 1        2912     1472          1   \n",
       "\n",
       "   Contest_id                     Contest_title  Contest_party  Choice_id  \\\n",
       "0           1                      U.S. Senator            NaN          1   \n",
       "1           1                      U.S. Senator            NaN          2   \n",
       "2           3      U.S. Representative, Dist II            NaN          8   \n",
       "3           3      U.S. Representative, Dist II            NaN          9   \n",
       "4           4  Governor and Lieutenant Governor            NaN         10   \n",
       "\n",
       "         Candidate_name  Choice_party Candidate_Type  Absentee_votes  \\\n",
       "0       (R) CURTIS, Ron           NaN              C             142   \n",
       "1  (D) HIRONO, Mazie K.           NaN              C             541   \n",
       "2    (D) GABBARD, Tulsi           NaN              C             574   \n",
       "3      (R) EVANS, Brian           NaN              C              98   \n",
       "4      (G) BREWER / ING           NaN              C              14   \n",
       "\n",
       "   Early_votes  Election_Votes  \n",
       "0           24             153  \n",
       "1           86             500  \n",
       "2           89             548  \n",
       "3           18             101  \n",
       "4            2              19  "
      ]
     },
     "execution_count": 7,
     "metadata": {},
     "output_type": "execute_result"
    }
   ],
   "source": [
    "df.head()"
   ]
  },
  {
   "cell_type": "code",
   "execution_count": 8,
   "metadata": {},
   "outputs": [
    {
     "data": {
      "text/plain": [
       "At-Large Trustee                    1494\n",
       "Governor and Lieutenant Governor     996\n",
       "U.S. Representative, Dist I          575\n",
       "Maui Resident Trustee                498\n",
       "Oahu Resident Trustee                498\n",
       "                                    ... \n",
       "State Representative, Dist 20          8\n",
       "State Representative, Dist 46          8\n",
       "State Representative, Dist 47          8\n",
       "State Representative, Dist 36          6\n",
       "State Representative, Dist 22          6\n",
       "Name: Contest_title, Length: 63, dtype: int64"
      ]
     },
     "execution_count": 8,
     "metadata": {},
     "output_type": "execute_result"
    }
   ],
   "source": [
    "df['Contest_title'].value_counts()"
   ]
  },
  {
   "cell_type": "code",
   "execution_count": null,
   "metadata": {},
   "outputs": [],
   "source": []
  }
 ],
 "metadata": {
  "kernelspec": {
   "display_name": "Python 3",
   "language": "python",
   "name": "python3"
  },
  "language_info": {
   "codemirror_mode": {
    "name": "ipython",
    "version": 3
   },
   "file_extension": ".py",
   "mimetype": "text/x-python",
   "name": "python",
   "nbconvert_exporter": "python",
   "pygments_lexer": "ipython3",
   "version": "3.8.3"
  }
 },
 "nbformat": 4,
 "nbformat_minor": 4
}
